{
 "cells": [
  {
   "cell_type": "markdown",
   "metadata": {},
   "source": [
    "# Museum Analysis\n",
    "\n",
    "This notebook connects to the museum database and conducts simple analysis of the data.\n",
    "\n",
    "## Imports"
   ]
  },
  {
   "cell_type": "code",
   "execution_count": 76,
   "metadata": {},
   "outputs": [
    {
     "data": {
      "text/plain": [
       "True"
      ]
     },
     "execution_count": 76,
     "metadata": {},
     "output_type": "execute_result"
    }
   ],
   "source": [
    "from os import environ\n",
    "from dotenv import load_dotenv\n",
    "import psycopg2\n",
    "import psycopg2.extras\n",
    "import psycopg2.extensions\n",
    "\n",
    "\n",
    "load_dotenv(\".env.prod\")"
   ]
  },
  {
   "cell_type": "markdown",
   "metadata": {},
   "source": [
    "## Setup"
   ]
  },
  {
   "cell_type": "code",
   "execution_count": 77,
   "metadata": {},
   "outputs": [],
   "source": [
    "def get_connection():\n",
    "    \"\"\"Connect to database\"\"\"\n",
    "    return psycopg2.connect(\n",
    "        user=environ[\"DATABASE_USERNAME\"],\n",
    "        password=environ[\"DATABASE_PASSWORD\"],\n",
    "        host=environ[\"DATABASE_HOST\"],\n",
    "        port=environ[\"DATABASE_PORT\"],\n",
    "        database=environ[\"DATABASE_NAME\"]\n",
    "    )\n",
    "\n",
    "\n",
    "def get_cursor(connection):\n",
    "    \"\"\"Returns cursor\"\"\"\n",
    "    return connection.cursor(cursor_factory=psycopg2.extras.DictCursor)\n",
    "conn = get_connection()\n",
    "cursor = get_cursor(conn)\n"
   ]
  },
  {
   "cell_type": "markdown",
   "metadata": {},
   "source": [
    "# # Queries"
   ]
  },
  {
   "cell_type": "code",
   "execution_count": 78,
   "metadata": {
    "vscode": {
     "languageId": "sql"
    }
   },
   "outputs": [
    {
     "name": "stdout",
     "output_type": "stream",
     "text": [
      "[[1, 'Adaptation', 'How insect evolution has kept pace with an industrialised world', 1, 4, datetime.date(2019, 7, 1)], [2, 'Measureless to Man', 'An immersive 3D experience: delve deep into a previously-inaccessible cave system.', 2, 1, datetime.date(2021, 8, 23)], [3, 'Thunder Lizards', 'How new research is making scientists rethink what dinosaurs really looked like.', 3, 1, datetime.date(2023, 2, 1)], [4, 'The Crenshaw Collection', 'An exhibition of 18th Century watercolours, mostly focused on South American wildlife.', 4, 2, datetime.date(2021, 3, 3)], [5, 'Our Polluted World', 'A hard-hitting exploration of humanity\"s impact on the environment.', 5, 3, datetime.date(2021, 5, 12)], [6, 'Cetacean Sensations', 'Whales: from ancient myth to critically endangered.', 4, 1, datetime.date(2019, 7, 1)]]\n"
     ]
    }
   ],
   "source": [
    "\n",
    "query = \"\"\"SELECT exhibition_id, exhibition_name, exhibition_description, department_id, floor_id, exhibition_start_date\n",
    "FROM exhibition;\"\"\"\n",
    "\n",
    "cursor.execute(query)\n",
    "response = cursor.fetchall()\n",
    "print(response)\n"
   ]
  },
  {
   "cell_type": "markdown",
   "metadata": {},
   "source": [
    "**Count of Rating Interactions by Exhibition**: Counts how many rating interactions each exhibition has received."
   ]
  },
  {
   "cell_type": "code",
   "execution_count": 79,
   "metadata": {
    "vscode": {
     "languageId": "sql"
    }
   },
   "outputs": [
    {
     "name": "stdout",
     "output_type": "stream",
     "text": [
      "[['Our Polluted World', 10205], ['Cetacean Sensations', 9969], ['The Crenshaw Collection', 8733], ['Measureless to Man', 8370], ['Thunder Lizards', 7184], ['Adaptation', 5862]]\n"
     ]
    }
   ],
   "source": [
    "query = \"\"\"SELECT e.exhibition_name, COUNT(ra_i.rating_interaction_id) AS rating_count\n",
    "FROM exhibition e\n",
    "JOIN rating_interaction ra_i ON e.exhibition_id = ra_i.exhibition_id\n",
    "GROUP BY e.exhibition_name\n",
    "ORDER BY rating_count DESC;\"\"\"\n",
    "\n",
    "cursor.execute(query)\n",
    "response = cursor.fetchall()\n",
    "print(response)"
   ]
  },
  {
   "cell_type": "markdown",
   "metadata": {},
   "source": []
  },
  {
   "cell_type": "markdown",
   "metadata": {},
   "source": [
    "**Count of Request Interactions by Exhibition**: Shows how many request interactions (e.g., assistance or emergency) each exhibition has received."
   ]
  },
  {
   "cell_type": "code",
   "execution_count": 80,
   "metadata": {
    "vscode": {
     "languageId": "sql"
    }
   },
   "outputs": [
    {
     "name": "stdout",
     "output_type": "stream",
     "text": [
      "[['Our Polluted World', 456], ['The Crenshaw Collection', 440], ['Thunder Lizards', 369], ['Adaptation', 194], ['Measureless to Man', 172], ['Cetacean Sensations', 131]]\n"
     ]
    }
   ],
   "source": [
    "query = \"\"\"SELECT e.exhibition_name, COUNT(ra_i.request_interaction_id) AS request_count\n",
    "FROM exhibition e\n",
    "LEFT JOIN request_interaction ra_i ON e.exhibition_id = ra_i.exhibition_id\n",
    "GROUP BY e.exhibition_name\n",
    "ORDER BY request_count DESC;\"\"\"\n",
    "\n",
    "cursor.execute(query)\n",
    "response = cursor.fetchall()\n",
    "print(response)"
   ]
  },
  {
   "cell_type": "markdown",
   "metadata": {},
   "source": [
    "**Count of Rating Values Across All Exhibitions**: Provides the count of each rating value (e.g., how many 'Amazing', 'Good', etc.) across all exhibitions."
   ]
  },
  {
   "cell_type": "code",
   "execution_count": 81,
   "metadata": {
    "vscode": {
     "languageId": "sql"
    }
   },
   "outputs": [
    {
     "name": "stdout",
     "output_type": "stream",
     "text": [
      "[['Neutral', 13222], ['Bad', 11533], ['Good', 9843], ['Terrible', 7995], ['Amazing', 7730]]\n"
     ]
    }
   ],
   "source": [
    "query = \"\"\"SELECT r.rating_description, COUNT(ra_i.rating_interaction_id) AS rating_count\n",
    "FROM rating r\n",
    "LEFT JOIN rating_interaction ra_i ON r.rating_id = ra_i.rating_id\n",
    "GROUP BY r.rating_description\n",
    "ORDER BY rating_count DESC;\"\"\"\n",
    "\n",
    "cursor.execute(query)\n",
    "response = cursor.fetchall()\n",
    "print(response)"
   ]
  },
  {
   "cell_type": "markdown",
   "metadata": {},
   "source": [
    "**Count of Request Types Across All Exhibitions**: Counts how many assistance and emergency requests were recorded across all exhibitions."
   ]
  },
  {
   "cell_type": "code",
   "execution_count": 82,
   "metadata": {
    "vscode": {
     "languageId": "sql"
    }
   },
   "outputs": [
    {
     "name": "stdout",
     "output_type": "stream",
     "text": [
      "[['assistance', 1694], ['emergency', 68]]\n"
     ]
    }
   ],
   "source": [
    "query = \"\"\"SELECT req.request_description, COUNT(req_i.request_interaction_id) AS request_count\n",
    "FROM request req\n",
    "LEFT JOIN request_interaction req_i ON req.request_id = req_i.request_id\n",
    "GROUP BY req.request_description\n",
    "ORDER BY request_count DESC;\"\"\"\n",
    "\n",
    "cursor.execute(query)\n",
    "response = cursor.fetchall()\n",
    "print(response)"
   ]
  },
  {
   "cell_type": "markdown",
   "metadata": {},
   "source": [
    "**Exhibition Interactions Summary (Rating and Request)**: Combines both rating and request interactions for each exhibition."
   ]
  },
  {
   "cell_type": "code",
   "execution_count": 83,
   "metadata": {
    "vscode": {
     "languageId": "sql"
    }
   },
   "outputs": [],
   "source": [
    "query = \"\"\"SELECT e.exhibition_name,\n",
    "       COUNT(DISTINCT ra_i.rating_interaction_id) AS total_ratings,\n",
    "       COUNT(DISTINCT req_i.request_interaction_id) AS total_requests\n",
    "FROM exhibition e\n",
    "LEFT JOIN rating_interaction ra_i ON e.exhibition_id = ra_i.exhibition_id\n",
    "LEFT JOIN request_interaction req_i ON e.exhibition_id = req_i.exhibition_id\n",
    "GROUP BY e.exhibition_name\n",
    "ORDER BY total_ratings DESC, total_requests DESC\n",
    "LIMIT 1;\"\"\"\n",
    "\n",
    "\n",
    "\n"
   ]
  },
  {
   "cell_type": "markdown",
   "metadata": {},
   "source": [
    "What exhibition is most frequently visited?"
   ]
  },
  {
   "cell_type": "code",
   "execution_count": 84,
   "metadata": {
    "vscode": {
     "languageId": "sql"
    }
   },
   "outputs": [
    {
     "name": "stdout",
     "output_type": "stream",
     "text": [
      "[['Our Polluted World', 10205]]\n"
     ]
    }
   ],
   "source": [
    "query = \"\"\"SELECT e.exhibition_name, COUNT(ra_i.rating_interaction_id) AS visit_count\n",
    "FROM exhibition e\n",
    "JOIN rating_interaction ra_i ON e.exhibition_id = ra_i.exhibition_id\n",
    "GROUP BY e.exhibition_name\n",
    "ORDER BY visit_count DESC\n",
    "LIMIT 1;\"\"\"\n",
    "\n",
    "cursor.execute(query)\n",
    "response = cursor.fetchall()\n",
    "print(response)\n"
   ]
  },
  {
   "cell_type": "markdown",
   "metadata": {},
   "source": [
    "What hour of the day has the most ratings?"
   ]
  },
  {
   "cell_type": "code",
   "execution_count": 85,
   "metadata": {
    "vscode": {
     "languageId": "sql"
    }
   },
   "outputs": [
    {
     "name": "stdout",
     "output_type": "stream",
     "text": [
      "[[Decimal('16'), 5911]]\n"
     ]
    }
   ],
   "source": [
    "query = \"\"\"SELECT EXTRACT(HOUR FROM ra_i.event_at) AS hour_of_day, COUNT(ra_i.rating_interaction_id) AS rating_count\n",
    "FROM rating_interaction ra_i\n",
    "GROUP BY hour_of_day\n",
    "ORDER BY rating_count DESC\n",
    "LIMIT 1;\"\"\"\n",
    "\n",
    "cursor.execute(query)\n",
    "response = cursor.fetchall()\n",
    "print(response)\n"
   ]
  },
  {
   "cell_type": "markdown",
   "metadata": {},
   "source": [
    "What exhibition has the most emergencies?"
   ]
  },
  {
   "cell_type": "code",
   "execution_count": 86,
   "metadata": {
    "vscode": {
     "languageId": "sql"
    }
   },
   "outputs": [
    {
     "name": "stdout",
     "output_type": "stream",
     "text": [
      "[['Our Polluted World', 17]]\n"
     ]
    }
   ],
   "source": [
    "query = \"\"\"SELECT e.exhibition_name, COUNT(ri.request_interaction_id) AS emergency_count\n",
    "FROM exhibition e\n",
    "JOIN request_interaction ri ON e.exhibition_id = ri.exhibition_id\n",
    "JOIN request r ON ri.request_id = r.request_id\n",
    "WHERE r.request_value = 1  \n",
    "GROUP BY e.exhibition_name\n",
    "ORDER BY emergency_count DESC\n",
    "LIMIT 1;\"\"\"\n",
    "\n",
    "cursor.execute(query)\n",
    "response = cursor.fetchall()\n",
    "print(response)\n"
   ]
  },
  {
   "cell_type": "markdown",
   "metadata": {},
   "source": [
    "What is the average rating for each exhibition?"
   ]
  },
  {
   "cell_type": "code",
   "execution_count": 87,
   "metadata": {
    "vscode": {
     "languageId": "sql"
    }
   },
   "outputs": [
    {
     "name": "stdout",
     "output_type": "stream",
     "text": [
      "[['Cetacean Sensations', Decimal('2.8809308857458120')], ['The Crenshaw Collection', Decimal('2.0509561433642505')], ['Measureless to Man', Decimal('1.9912783751493429')], ['Adaptation', Decimal('1.9831115660184237')], ['Thunder Lizards', Decimal('1.6631403118040089')], ['Our Polluted World', Decimal('1.13228809407153356198')]]\n"
     ]
    }
   ],
   "source": [
    "query = \"\"\"SELECT e.exhibition_name, AVG(r.rating_value) AS avg_rating\n",
    "FROM exhibition e\n",
    "JOIN rating_interaction ri ON e.exhibition_id = ri.exhibition_id\n",
    "JOIN rating r ON ri.rating_id = r.rating_id\n",
    "GROUP BY e.exhibition_name\n",
    "ORDER BY avg_rating DESC;\"\"\"\n",
    "\n",
    "cursor.execute(query)\n",
    "response = cursor.fetchall()\n",
    "print(response)"
   ]
  },
  {
   "cell_type": "markdown",
   "metadata": {},
   "source": [
    "Count of rating interactions for each hour"
   ]
  },
  {
   "cell_type": "code",
   "execution_count": 88,
   "metadata": {
    "vscode": {
     "languageId": "sql"
    }
   },
   "outputs": [
    {
     "name": "stdout",
     "output_type": "stream",
     "text": [
      "[[Decimal('16'), 5911], [Decimal('14'), 5832], [Decimal('15'), 5826], [Decimal('13'), 5814], [Decimal('12'), 5781], [Decimal('11'), 5764], [Decimal('10'), 5750], [Decimal('9'), 5040], [Decimal('8'), 3781], [Decimal('17'), 819], [Decimal('7'), 3], [Decimal('18'), 2]]\n"
     ]
    }
   ],
   "source": [
    "query = \"\"\"SELECT EXTRACT(HOUR FROM ra_i.event_at) AS hour_of_day, COUNT(ra_i.rating_interaction_id) AS rating_count\n",
    "FROM rating_interaction ra_i\n",
    "GROUP BY hour_of_day\n",
    "ORDER BY rating_count DESC;\"\"\"\n",
    "\n",
    "cursor.execute(query)\n",
    "response = cursor.fetchall()\n",
    "print(response)"
   ]
  },
  {
   "cell_type": "code",
   "execution_count": 89,
   "metadata": {
    "vscode": {
     "languageId": "sql"
    }
   },
   "outputs": [
    {
     "name": "stdout",
     "output_type": "stream",
     "text": [
      "[[Decimal('7'), 'Measureless to Man', Decimal('1.00')], [Decimal('7'), 'The Crenshaw Collection', Decimal('4.00')], [Decimal('7'), 'Thunder Lizards', Decimal('0.00')], [Decimal('8'), 'Adaptation', Decimal('1.96')], [Decimal('8'), 'Cetacean Sensations', Decimal('2.83')], [Decimal('8'), 'Measureless to Man', Decimal('1.99')], [Decimal('8'), 'Our Polluted World', Decimal('1.16')], [Decimal('8'), 'The Crenshaw Collection', Decimal('2.03')], [Decimal('8'), 'Thunder Lizards', Decimal('1.66')], [Decimal('9'), 'Adaptation', Decimal('2.01')], [Decimal('9'), 'Cetacean Sensations', Decimal('2.91')], [Decimal('9'), 'Measureless to Man', Decimal('2.06')], [Decimal('9'), 'Our Polluted World', Decimal('1.19')], [Decimal('9'), 'The Crenshaw Collection', Decimal('2.04')], [Decimal('9'), 'Thunder Lizards', Decimal('1.68')], [Decimal('10'), 'Adaptation', Decimal('1.92')], [Decimal('10'), 'Cetacean Sensations', Decimal('2.89')], [Decimal('10'), 'Measureless to Man', Decimal('2.04')], [Decimal('10'), 'Our Polluted World', Decimal('1.04')], [Decimal('10'), 'The Crenshaw Collection', Decimal('2.06')], [Decimal('10'), 'Thunder Lizards', Decimal('1.62')], [Decimal('11'), 'Adaptation', Decimal('1.88')], [Decimal('11'), 'Cetacean Sensations', Decimal('2.85')], [Decimal('11'), 'Measureless to Man', Decimal('2.01')], [Decimal('11'), 'Our Polluted World', Decimal('1.12')], [Decimal('11'), 'The Crenshaw Collection', Decimal('1.98')], [Decimal('11'), 'Thunder Lizards', Decimal('1.64')], [Decimal('12'), 'Adaptation', Decimal('2.03')], [Decimal('12'), 'Cetacean Sensations', Decimal('2.93')], [Decimal('12'), 'Measureless to Man', Decimal('1.97')], [Decimal('12'), 'Our Polluted World', Decimal('1.17')], [Decimal('12'), 'The Crenshaw Collection', Decimal('1.97')], [Decimal('12'), 'Thunder Lizards', Decimal('1.63')], [Decimal('13'), 'Adaptation', Decimal('1.99')], [Decimal('13'), 'Cetacean Sensations', Decimal('2.92')], [Decimal('13'), 'Measureless to Man', Decimal('1.98')], [Decimal('13'), 'Our Polluted World', Decimal('1.15')], [Decimal('13'), 'The Crenshaw Collection', Decimal('2.06')], [Decimal('13'), 'Thunder Lizards', Decimal('1.74')], [Decimal('14'), 'Adaptation', Decimal('1.93')], [Decimal('14'), 'Cetacean Sensations', Decimal('2.87')], [Decimal('14'), 'Measureless to Man', Decimal('1.99')], [Decimal('14'), 'Our Polluted World', Decimal('1.11')], [Decimal('14'), 'The Crenshaw Collection', Decimal('2.09')], [Decimal('14'), 'Thunder Lizards', Decimal('1.67')], [Decimal('15'), 'Adaptation', Decimal('2.09')], [Decimal('15'), 'Cetacean Sensations', Decimal('2.83')], [Decimal('15'), 'Measureless to Man', Decimal('1.91')], [Decimal('15'), 'Our Polluted World', Decimal('1.10')], [Decimal('15'), 'The Crenshaw Collection', Decimal('2.08')], [Decimal('15'), 'Thunder Lizards', Decimal('1.66')], [Decimal('16'), 'Adaptation', Decimal('2.04')], [Decimal('16'), 'Cetacean Sensations', Decimal('2.87')], [Decimal('16'), 'Measureless to Man', Decimal('1.98')], [Decimal('16'), 'Our Polluted World', Decimal('1.15')], [Decimal('16'), 'The Crenshaw Collection', Decimal('2.12')], [Decimal('16'), 'Thunder Lizards', Decimal('1.68')], [Decimal('17'), 'Adaptation', Decimal('1.95')], [Decimal('17'), 'Cetacean Sensations', Decimal('3.09')], [Decimal('17'), 'Measureless to Man', Decimal('1.89')], [Decimal('17'), 'Our Polluted World', Decimal('1.22')], [Decimal('17'), 'The Crenshaw Collection', Decimal('2.10')], [Decimal('17'), 'Thunder Lizards', Decimal('1.63')], [Decimal('18'), 'Measureless to Man', Decimal('3.00')], [Decimal('18'), 'Our Polluted World', Decimal('0.00')]]\n"
     ]
    }
   ],
   "source": [
    "query = \"\"\"SELECT EXTRACT(HOUR FROM ri.event_at) AS hour_of_day, e.exhibition_name, ROUND(AVG(r.rating_value), 2) AS avg_rating\n",
    "FROM exhibition e\n",
    "JOIN rating_interaction ri ON e.exhibition_id = ri.exhibition_id\n",
    "JOIN rating r ON ri.rating_id = r.rating_id\n",
    "GROUP BY hour_of_day, e.exhibition_name\n",
    "ORDER BY hour_of_day ASC;\"\"\"\n",
    "\n",
    "cursor.execute(query)\n",
    "response = cursor.fetchall()\n",
    "print(response)"
   ]
  },
  {
   "cell_type": "markdown",
   "metadata": {},
   "source": [
    "Are positive ratings more frequent before or after 1pm?"
   ]
  },
  {
   "cell_type": "code",
   "execution_count": 90,
   "metadata": {
    "vscode": {
     "languageId": "sql"
    }
   },
   "outputs": [
    {
     "name": "stdout",
     "output_type": "stream",
     "text": [
      "[[8544]]\n"
     ]
    }
   ],
   "source": [
    "query = \"\"\"SELECT COUNT(ri.rating_interaction_id) AS positive_rating_count_before_1pm\n",
    "FROM rating_interaction ri\n",
    "JOIN rating r ON ri.rating_id = r.rating_id\n",
    "WHERE r.rating_value IN (3, 4)  -- Positive ratings\n",
    "AND EXTRACT(HOUR FROM ri.event_at) < 13;\"\"\"\n",
    "\n",
    "query = \"\"\"SELECT COUNT(ri.rating_interaction_id) AS positive_rating_count_after_1pm\n",
    "FROM rating_interaction ri\n",
    "JOIN rating r ON ri.rating_id = r.rating_id\n",
    "WHERE r.rating_value IN (3, 4)  -- Positive ratings\n",
    "AND EXTRACT(HOUR FROM ri.event_at) >= 13;\"\"\"\n",
    "\n",
    "cursor.execute(query)\n",
    "response = cursor.fetchall()\n",
    "print(response)"
   ]
  },
  {
   "cell_type": "markdown",
   "metadata": {},
   "source": [
    "Do Zoology exhibitions get better ratings than other types?"
   ]
  },
  {
   "cell_type": "code",
   "execution_count": 91,
   "metadata": {
    "vscode": {
     "languageId": "sql"
    }
   },
   "outputs": [
    {
     "name": "stdout",
     "output_type": "stream",
     "text": [
      "[[Decimal('1.6379937383384460')]]\n"
     ]
    }
   ],
   "source": [
    "query = \"\"\"SELECT AVG(r.rating_value) AS avg_rating_zoology\n",
    "FROM exhibition e\n",
    "JOIN rating_interaction ri ON e.exhibition_id = ri.exhibition_id\n",
    "JOIN rating r ON ri.rating_id = r.rating_id\n",
    "WHERE e.department_id = 4;\"\"\"\n",
    "\n",
    "query = \"\"\"SELECT AVG(r.rating_value) AS avg_rating_other_departments\n",
    "FROM exhibition e\n",
    "JOIN rating_interaction ri ON e.exhibition_id = ri.exhibition_id\n",
    "JOIN rating r ON ri.rating_id = r.rating_id\n",
    "WHERE e.department_id != 4;\"\"\"\n",
    "\n",
    "cursor.execute(query)\n",
    "response = cursor.fetchall()\n",
    "print(response)\n"
   ]
  },
  {
   "cell_type": "markdown",
   "metadata": {},
   "source": [
    "# # Advanced queries"
   ]
  },
  {
   "cell_type": "markdown",
   "metadata": {},
   "source": [
    "Which exhibitions receive fewer assistance requests than the average?"
   ]
  },
  {
   "cell_type": "code",
   "execution_count": 92,
   "metadata": {
    "vscode": {
     "languageId": "sql"
    }
   },
   "outputs": [
    {
     "name": "stdout",
     "output_type": "stream",
     "text": [
      "[['Adaptation'], ['Cetacean Sensations'], ['Measureless to Man']]\n"
     ]
    }
   ],
   "source": [
    "query = \"\"\"WITH assistance_counts AS (\n",
    "    SELECT e.exhibition_name, COUNT(r.request_value) AS count_assistance\n",
    "    FROM exhibition e\n",
    "    JOIN request_interaction ri ON e.exhibition_id = ri.exhibition_id\n",
    "    JOIN request r ON ri.request_id = r.request_id\n",
    "    WHERE r.request_value = 0\n",
    "    GROUP BY e.exhibition_name\n",
    "),\n",
    "average_assistance AS (\n",
    "    SELECT AVG(count_assistance) AS avg_assistance\n",
    "    FROM assistance_counts)\n",
    "SELECT ac.exhibition_name\n",
    "FROM assistance_counts ac\n",
    "JOIN average_assistance aa ON ac.count_assistance < aa.avg_assistance;\"\"\"\n",
    "\n",
    "cursor.execute(query)\n",
    "response = cursor.fetchall()\n",
    "print(response)"
   ]
  },
  {
   "cell_type": "markdown",
   "metadata": {},
   "source": [
    "Are there particular times when assistance requests/emergencies are more likely?"
   ]
  },
  {
   "cell_type": "code",
   "execution_count": null,
   "metadata": {
    "vscode": {
     "languageId": "sql"
    }
   },
   "outputs": [],
   "source": [
    "query = \"\"\"SELECT EXTRACT(HOUR FROM ri.event_at) AS hour_of_day, r.request_description, COUNT(ri.request_id) AS count_requests\n",
    "FROM request_interaction ri\n",
    "JOIN request r ON r.request_id = ri.request_id\n",
    "GROUP BY hour_of_day, r.request_description\n",
    "ORDER BY count_requests DESC;\"\"\"\n",
    "\n",
    "cursor.execute(query)\n",
    "response = cursor.fetchall()\n",
    "print(response)\n",
    "\n",
    "cursor.close()\n",
    "conn.close()"
   ]
  },
  {
   "cell_type": "markdown",
   "metadata": {},
   "source": [
    "Are emergencies more likely in exhibitions that are more exciting than others?"
   ]
  },
  {
   "cell_type": "code",
   "execution_count": null,
   "metadata": {
    "vscode": {
     "languageId": "sql"
    }
   },
   "outputs": [],
   "source": []
  },
  {
   "cell_type": "markdown",
   "metadata": {},
   "source": [
    "How does exhibition popularity change day-by-day?"
   ]
  },
  {
   "cell_type": "code",
   "execution_count": null,
   "metadata": {
    "vscode": {
     "languageId": "sql"
    }
   },
   "outputs": [],
   "source": []
  }
 ],
 "metadata": {
  "kernelspec": {
   "display_name": ".venv",
   "language": "python",
   "name": "python3"
  },
  "language_info": {
   "codemirror_mode": {
    "name": "ipython",
    "version": 3
   },
   "file_extension": ".py",
   "mimetype": "text/x-python",
   "name": "python",
   "nbconvert_exporter": "python",
   "pygments_lexer": "ipython3",
   "version": "3.12.5"
  }
 },
 "nbformat": 4,
 "nbformat_minor": 2
}
